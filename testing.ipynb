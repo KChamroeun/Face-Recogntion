{
 "cells": [
  {
   "cell_type": "code",
   "execution_count": 1,
   "metadata": {},
   "outputs": [],
   "source": [
    "import sqlite3"
   ]
  },
  {
   "cell_type": "code",
   "execution_count": 2,
   "metadata": {},
   "outputs": [
    {
     "name": "stdout",
     "output_type": "stream",
     "text": [
      "id | FirstName | LastName | Gender | MedicalCondition | Address | EmergencyContact\n",
      "--------------------------------------------------\n",
      "1 | Tan | Chesthareah | M | Comon flu | Siem Reap | 101010\n",
      "2 | Tan  | Chesthareah | M | hello | Phnom Penh | 13232\n"
     ]
    }
   ],
   "source": [
    "def get_profile():\n",
    "    \n",
    "    conn = sqlite3.connect(\"train.db\")\n",
    "    cursor = conn.execute(\"SELECT * FROM STUDENTS;\")\n",
    "    \n",
    "    # Fetch column names\n",
    "    column_names = [description[0] for description in cursor.description]\n",
    "\n",
    "    # Print column names\n",
    "    print(\" | \".join(column_names))\n",
    "    print(\"-\" * 50)  # For formatting\n",
    "\n",
    "    # Fetch and print rows\n",
    "    rows = cursor.fetchall()\n",
    "\n",
    "    for row in rows:\n",
    "        print(\" | \".join(map(str, row)))\n",
    "\n",
    "    conn.close()\n",
    "\n",
    "get_profile()\n"
   ]
  },
  {
   "cell_type": "code",
   "execution_count": 6,
   "metadata": {},
   "outputs": [
    {
     "name": "stdout",
     "output_type": "stream",
     "text": [
      "Error: No record found with ID=3\n"
     ]
    }
   ],
   "source": [
    "def del_db():\n",
    "    conn = sqlite3.connect(\"sqlite.db\")\n",
    "    cursor = conn.cursor()\n",
    "\n",
    "    # Check if a record with ID=3 exists\n",
    "    cursor.execute(\"SELECT * FROM STUDENTS WHERE ID='3';\")\n",
    "    record = cursor.fetchone()\n",
    "\n",
    "    if record is None:\n",
    "        print(\"Error: No record found with ID=3\")\n",
    "    else:\n",
    "        # Proceed to delete the record if it exists\n",
    "        cursor.execute(\"DELETE FROM STUDENTS WHERE ID='3';\")\n",
    "        conn.commit()  # Commit the changes\n",
    "        print(\"Success! Record with ID=3 deleted.\")\n",
    "\n",
    "    conn.close()\n",
    "\n",
    "del_db()\n"
   ]
  }
 ],
 "metadata": {
  "kernelspec": {
   "display_name": "env",
   "language": "python",
   "name": "python3"
  },
  "language_info": {
   "codemirror_mode": {
    "name": "ipython",
    "version": 3
   },
   "file_extension": ".py",
   "mimetype": "text/x-python",
   "name": "python",
   "nbconvert_exporter": "python",
   "pygments_lexer": "ipython3",
   "version": "3.10.0"
  }
 },
 "nbformat": 4,
 "nbformat_minor": 2
}
